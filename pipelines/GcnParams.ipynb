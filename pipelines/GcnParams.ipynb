{
 "cells": [
  {
   "cell_type": "code",
   "execution_count": null,
   "metadata": {
    "collapsed": false
   },
   "outputs": [],
   "source": [
    "from datawand.parametrization import ConfigGenerator"
   ]
  },
  {
   "cell_type": "markdown",
   "metadata": {},
   "source": [
    "# Initialize configuration generator"
   ]
  },
  {
   "cell_type": "code",
   "execution_count": null,
   "metadata": {
    "collapsed": true
   },
   "outputs": [],
   "source": [
    "pipeline_cfg_file = \"GcnProject.json\""
   ]
  },
  {
   "cell_type": "code",
   "execution_count": null,
   "metadata": {
    "collapsed": true
   },
   "outputs": [],
   "source": [
    "cg = ConfigGenerator(pipeline_cfg_file)"
   ]
  },
  {
   "cell_type": "markdown",
   "metadata": {},
   "source": [
    "# Setting default parameters for pipeline"
   ]
  },
  {
   "cell_type": "code",
   "execution_count": null,
   "metadata": {
    "collapsed": true
   },
   "outputs": [],
   "source": [
    "DEFAULTS = {}"
   ]
  },
  {
   "cell_type": "markdown",
   "metadata": {},
   "source": [
    "#### Set your default parameters below:"
   ]
  },
  {
   "cell_type": "markdown",
   "metadata": {
    "collapsed": true
   },
   "source": [
    "DEFAULTS[\"input_prefix\"] = \"/home/fberes/FBDATA/DATA/temporalNodeRanking/\"\n",
    "DEFAULTS[\"experiment_dir\"] = \"/home/fberes/sztaki/git/gcn/results/\""
   ]
  },
  {
   "cell_type": "code",
   "execution_count": null,
   "metadata": {
    "collapsed": true
   },
   "outputs": [],
   "source": [
    "DEFAULTS[\"input_prefix\"] = \"/mnt/idms/temporalNodeRanking/data/filtered_timeline_data/tsv\"\n",
    "DEFAULTS[\"experiment_dir\"] = \"/mnt/idms/fberes/network/gcn_project/\""
   ]
  },
  {
   "cell_type": "code",
   "execution_count": null,
   "metadata": {
    "collapsed": true
   },
   "outputs": [],
   "source": [
    "DEFAULTS[\"dataset_id\"] = \"occupy\"#\"15o\""
   ]
  },
  {
   "cell_type": "code",
   "execution_count": null,
   "metadata": {
    "collapsed": true
   },
   "outputs": [],
   "source": [
    "DEFAULTS[\"top_k\"] = 5\n",
    "DEFAULTS[\"topic_support\"] = 50\n",
    "DEFAULTS[\"time_frame\"] = 60\n",
    "DEFAULTS[\"cut_ratio\"] = 0.5"
   ]
  },
  {
   "cell_type": "code",
   "execution_count": null,
   "metadata": {
    "collapsed": true
   },
   "outputs": [],
   "source": [
    "DEFAULTS[\"split_type\"] = \"random\"#\"temporal\"\n",
    "DEFAULTS[\"train_ratio\"] = 0.5"
   ]
  },
  {
   "cell_type": "code",
   "execution_count": null,
   "metadata": {
    "collapsed": true
   },
   "outputs": [],
   "source": [
    "DEFAULTS[\"top_k_vals\"] = [2,3,4,5,10]\n",
    "DEFAULTS[\"time_frame_vals\"] = [60,100,300]\n",
    "DEFAULTS[\"train_ratio_vals\"] = [0.5]#,0.7]"
   ]
  },
  {
   "cell_type": "code",
   "execution_count": null,
   "metadata": {
    "collapsed": true
   },
   "outputs": [],
   "source": [
    "DEFAULTS[\"label_type\"] = \"binary\"#\"blended\""
   ]
  },
  {
   "cell_type": "markdown",
   "metadata": {},
   "source": [
    "# Setting parameters for notebooks"
   ]
  },
  {
   "cell_type": "code",
   "execution_count": null,
   "metadata": {
    "collapsed": true
   },
   "outputs": [],
   "source": [
    "PARAMETERS = {}"
   ]
  },
  {
   "cell_type": "code",
   "execution_count": null,
   "metadata": {
    "collapsed": false
   },
   "outputs": [],
   "source": [
    "for nb_name in cg.notebook_names:\n",
    "    PARAMETERS[nb_name] = []\n",
    "print(PARAMETERS)"
   ]
  },
  {
   "cell_type": "markdown",
   "metadata": {},
   "source": [
    "#### Set your parameters for each notebooks below:"
   ]
  },
  {
   "cell_type": "markdown",
   "metadata": {},
   "source": [
    "## Preprocessor and Modeling"
   ]
  },
  {
   "cell_type": "markdown",
   "metadata": {
    "collapsed": true
   },
   "source": [
    "for k in DEFAULTS[\"top_k_vals\"]:\n",
    "    for delta in DEFAULTS[\"time_frame_vals\"]:\n",
    "        for cut in DEFAULTS[\"train_ratio_vals\"]:\n",
    "            #PARAMETERS[\"GraphPreprocessor\"].append({\"top_k\":k, \"time_frame\": delta, \"train_ratio\": cut})\n",
    "            PARAMETERS[\"GcnNotebook\"].append({\"top_k\":k, \"time_frame\": delta, \"train_ratio\": cut})"
   ]
  },
  {
   "cell_type": "markdown",
   "metadata": {},
   "source": [
    "## ResultCollector"
   ]
  },
  {
   "cell_type": "code",
   "execution_count": null,
   "metadata": {
    "collapsed": true
   },
   "outputs": [],
   "source": [
    "for l_type in [\"blended\",\"onehot\",\"binary\"]:\n",
    "    for s_type in [\"random\"]: #[\"temporal\",\"random\"]:\n",
    "        for ds_id in [\"15o\",\"occupy\"]:\n",
    "            PARAMETERS[\"GcnResultCollector\"].append({\"dataset_id\":ds_id,\"label_type\":l_type,\"split_type\":s_type})"
   ]
  },
  {
   "cell_type": "markdown",
   "metadata": {
    "collapsed": true
   },
   "source": [
    "for l_type in [\"blended\",\"onehot\"]:#,\"binary\"]:\n",
    "    PARAMETERS['GcnResultCollector'].append({\"label_type\":l_type})"
   ]
  },
  {
   "cell_type": "markdown",
   "metadata": {},
   "source": [
    "# Export parameters into pipeline configuration file"
   ]
  },
  {
   "cell_type": "code",
   "execution_count": null,
   "metadata": {
    "collapsed": false
   },
   "outputs": [],
   "source": [
    "cg.load_params(PARAMETERS,DEFAULTS)"
   ]
  },
  {
   "cell_type": "markdown",
   "metadata": {},
   "source": [
    "cg.pipeline_cfg"
   ]
  },
  {
   "cell_type": "code",
   "execution_count": null,
   "metadata": {
    "collapsed": false
   },
   "outputs": [],
   "source": [
    "cg.save()"
   ]
  }
 ],
 "metadata": {
  "anaconda-cloud": {},
  "kernelspec": {
   "display_name": "Python [conda env:dm-3-env]",
   "language": "python",
   "name": "conda-env-dm-3-env-py"
  },
  "language_info": {
   "codemirror_mode": {
    "name": "ipython",
    "version": 3
   },
   "file_extension": ".py",
   "mimetype": "text/x-python",
   "name": "python",
   "nbconvert_exporter": "python",
   "pygments_lexer": "ipython3",
   "version": "3.5.2"
  }
 },
 "nbformat": 4,
 "nbformat_minor": 1
}