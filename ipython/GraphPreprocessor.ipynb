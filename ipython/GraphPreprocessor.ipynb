{
 "cells": [
  {
   "cell_type": "code",
   "execution_count": null,
   "metadata": {
    "collapsed": true
   },
   "outputs": [],
   "source": [
    "import pandas as pd\n",
    "import numpy as np\n",
    "import networkx as nx\n",
    "import itertools\n",
    "from scipy import sparse"
   ]
  },
  {
   "cell_type": "code",
   "execution_count": null,
   "metadata": {
    "collapsed": true
   },
   "outputs": [],
   "source": [
    "%matplotlib inline"
   ]
  },
  {
   "cell_type": "markdown",
   "metadata": {},
   "source": [
    "# 1. Load Network Data"
   ]
  },
  {
   "cell_type": "code",
   "execution_count": null,
   "metadata": {
    "collapsed": true
   },
   "outputs": [],
   "source": [
    "data = pd.read_csv(\"/mnt/idms/temporalNodeRanking/data/filtered_timeline_data/tsv/15o/15o_mentions.csv\",sep=\" \",names=[\"time\",\"src\",\"trg\"])"
   ]
  },
  {
   "cell_type": "code",
   "execution_count": null,
   "metadata": {
    "collapsed": false
   },
   "outputs": [],
   "source": [
    "data.head()"
   ]
  },
  {
   "cell_type": "code",
   "execution_count": null,
   "metadata": {
    "collapsed": true
   },
   "outputs": [],
   "source": [
    "first_epoch = data[\"time\"].min()"
   ]
  },
  {
   "cell_type": "code",
   "execution_count": null,
   "metadata": {
    "collapsed": false
   },
   "outputs": [],
   "source": [
    "print(len(data))\n",
    "data = data[data[\"time\"] < first_epoch + 4 * 86400]\n",
    "print(len(data))"
   ]
  },
  {
   "cell_type": "markdown",
   "metadata": {},
   "source": [
    "# 2. Preprocess Network"
   ]
  },
  {
   "cell_type": "markdown",
   "metadata": {},
   "source": [
    "## a.) Top authorities"
   ]
  },
  {
   "cell_type": "code",
   "execution_count": null,
   "metadata": {
    "collapsed": false
   },
   "outputs": [],
   "source": [
    "top_k = 5\n",
    "top_auth_with_freq = data[\"trg\"].value_counts()[:top_k]\n",
    "top_auth_with_freq"
   ]
  },
  {
   "cell_type": "code",
   "execution_count": null,
   "metadata": {
    "collapsed": false
   },
   "outputs": [],
   "source": [
    "top_authorities = list(top_auth_with_freq.index)\n",
    "top_authorities"
   ]
  },
  {
   "cell_type": "markdown",
   "metadata": {},
   "source": [
    "## b.) Filter for top authorities"
   ]
  },
  {
   "cell_type": "code",
   "execution_count": null,
   "metadata": {
    "collapsed": false
   },
   "outputs": [],
   "source": [
    "filtered_data = data[data[\"trg\"].isin(top_authorities)]\n",
    "print(len(data),len(filtered_data))"
   ]
  },
  {
   "cell_type": "code",
   "execution_count": null,
   "metadata": {
    "collapsed": false
   },
   "outputs": [],
   "source": [
    "print(len(filtered_data[\"src\"].unique()),len(filtered_data[\"trg\"].unique()))"
   ]
  },
  {
   "cell_type": "code",
   "execution_count": null,
   "metadata": {
    "collapsed": false
   },
   "outputs": [],
   "source": [
    "num_targets_for_sources = filtered_data.groupby(by=[\"src\"])[\"trg\"].nunique()"
   ]
  },
  {
   "cell_type": "code",
   "execution_count": null,
   "metadata": {
    "collapsed": false
   },
   "outputs": [],
   "source": [
    "num_targets_for_sources.hist()"
   ]
  },
  {
   "cell_type": "markdown",
   "metadata": {},
   "source": [
    "## c.) Generate group labels for sources"
   ]
  },
  {
   "cell_type": "code",
   "execution_count": null,
   "metadata": {
    "collapsed": true
   },
   "outputs": [],
   "source": [
    "def get_label(target_list, keys=top_authorities):\n",
    "    label = ''\n",
    "    for key in keys:\n",
    "        label += '1' if key in target_list else '0'\n",
    "    return label\n",
    "\n",
    "def generate_labels(df):\n",
    "    targets_for_sources = df.groupby(by=[\"src\"])[\"trg\"].unique()\n",
    "    sources_with_labels_df = pd.DataFrame(targets_for_sources).reset_index()\n",
    "    sources_with_labels_df[\"label\"] = sources_with_labels_df[\"trg\"].apply(lambda x : get_label(x))\n",
    "    print(\"Number of nodes: %i\" % len(sources_with_labels_df))\n",
    "    print(\"Number of unique labels: %i\" % len(sources_with_labels_df[\"label\"].unique()))\n",
    "    return sources_with_labels_df"
   ]
  },
  {
   "cell_type": "markdown",
   "metadata": {},
   "source": [
    "#### Conclusion: top_k=10\n",
    "   * too many nodes (18824)\n",
    "   * too many labels (not all 2^10 combination occurs - only 294)\n",
    "   \n",
    "#### Conclusion: top_k=5\n",
    "   * too many nodes? (14721)\n",
    "   * 31 labels could be reduced to labels with at least 10,100 node support\n",
    "\n",
    "#### Conclusion: top_k=4\n",
    "   * 12372 nodes are fine\n",
    "   * 15 labels is fine\n",
    "\n",
    "#### Conclusion: top_k=3 (I should try this setting first)\n",
    "   * 9681 nodes are fine\n",
    "   * 7 labels is fine"
   ]
  },
  {
   "cell_type": "code",
   "execution_count": null,
   "metadata": {
    "collapsed": false
   },
   "outputs": [],
   "source": [
    "sources_with_labels_df = generate_labels(filtered_data)"
   ]
  },
  {
   "cell_type": "code",
   "execution_count": null,
   "metadata": {
    "collapsed": false
   },
   "outputs": [],
   "source": [
    "sources_with_labels_df[\"label\"].value_counts()"
   ]
  },
  {
   "cell_type": "markdown",
   "metadata": {},
   "source": [
    "### Label changes"
   ]
  },
  {
   "cell_type": "code",
   "execution_count": null,
   "metadata": {
    "collapsed": false
   },
   "outputs": [],
   "source": [
    "filtered_size = len(filtered_data)\n",
    "train_part = int(filtered_size * 0.5)\n",
    "print(filtered_size,train_part)"
   ]
  },
  {
   "cell_type": "code",
   "execution_count": null,
   "metadata": {
    "collapsed": false
   },
   "outputs": [],
   "source": [
    "labels_first_part = generate_labels(filtered_data.head(train_part))\n",
    "labels_second_part = generate_labels(filtered_data.tail(filtered_size-train_part))"
   ]
  },
  {
   "cell_type": "code",
   "execution_count": null,
   "metadata": {
    "collapsed": false
   },
   "outputs": [],
   "source": [
    "cols = ['src','label']\n",
    "merged_df = labels_first_part[cols].merge(labels_second_part[cols],on=[\"src\"],how=\"inner\")"
   ]
  },
  {
   "cell_type": "markdown",
   "metadata": {},
   "source": [
    "#### top_k=10\n",
    "   * merged_size=2273\n",
    "   * mismatch_size=1815\n",
    "\n",
    "#### top_k=5\n",
    "   * merged_size=1983\n",
    "   * mismatch_size=1465\n",
    "\n",
    "#### top_k=3\n",
    "   * merged_size=1800\n",
    "   * mismatch_size=1201 \n",
    "\n",
    "#### top_k=3\n",
    "   * merged_size=1703\n",
    "   * mismatch_size=1078 "
   ]
  },
  {
   "cell_type": "code",
   "execution_count": null,
   "metadata": {
    "collapsed": false
   },
   "outputs": [],
   "source": [
    "print(len(merged_df), len(merged_df[merged_df[\"label_x\"] != merged_df[\"label_y\"]]))"
   ]
  },
  {
   "cell_type": "markdown",
   "metadata": {},
   "source": [
    "## d.) Generate edges for the network\n",
    "\n",
    "   * connect nodes with edges who mentioned the same entity within a small timeframe\n",
    "   * what should be the length of this timeframe?\n",
    "   * I should collect nodes who mentioned the same entity, then count the sources from each timestamp in the group"
   ]
  },
  {
   "cell_type": "code",
   "execution_count": null,
   "metadata": {
    "collapsed": false
   },
   "outputs": [],
   "source": [
    "def add_edges_to_graph(mentions_df,G,trg_id,time_frame):\n",
    "    filtered_for_trg = mentions_df[mentions_df[\"trg\"] == trg_id]\n",
    "    filtered_for_trg = filtered_for_trg.reset_index()[[\"time\",\"src\"]]\n",
    "    min_time = filtered_for_trg[\"time\"].min()\n",
    "    idx_set = list(filtered_for_trg[filtered_for_trg[\"time\"] < min_time + time_frame].index)\n",
    "    edge_set = get_node_pairs(idx_set,filtered_for_trg,all_pair=True)\n",
    "    G.add_edges_from(edge_set, weight=trg_id)\n",
    "    #print(idx_set)\n",
    "    #print(edge_set)\n",
    "    for i in range(len(idx_set),len(filtered_for_trg)):\n",
    "        current_time = filtered_for_trg.ix[i][\"time\"]\n",
    "        low_idx = len(idx_set)\n",
    "        for j in range(len(idx_set)):\n",
    "            if filtered_for_trg.ix[idx_set[j]][\"time\"] > current_time - time_frame:\n",
    "                low_idx = j\n",
    "                break\n",
    "        idx_set = idx_set[low_idx:] + [i] # update active indices\n",
    "        edge_set = get_node_pairs(idx_set,filtered_for_trg)\n",
    "        G.add_edges_from(edge_set, weight=trg_id)\n",
    "        #print(idx_set)\n",
    "        #print(edge_set)\n",
    "    print(\"Edges were added for trg=%i\" % trg_id)\n",
    "\n",
    "def get_node_pairs(idx_list, filtered_for_trg, all_pair=False):\n",
    "    node_list = list(filtered_for_trg.ix[idx_list][\"src\"])\n",
    "    if len(idx_list) > 1:\n",
    "        if all_pair:\n",
    "            return list(itertools.combinations(node_list, 2))\n",
    "        else:\n",
    "            return list(zip(node_list[:-1],np.ones(len(node_list)-1,dtype=\"i\")*node_list[-1]))\n",
    "    else:\n",
    "        return []"
   ]
  },
  {
   "cell_type": "code",
   "execution_count": null,
   "metadata": {
    "collapsed": false
   },
   "outputs": [],
   "source": [
    "top_authorities"
   ]
  },
  {
   "cell_type": "markdown",
   "metadata": {},
   "source": [
    "#### Graph stats for different topics (top_k=5, time_frame=60 ~ 1min)\n",
    "\n",
    "The stats are in this order: **#nodes, #edges, #connected_components**\n",
    "\n",
    "   * for [59848]: 5408, 39501, 132\n",
    "   * for [59848,55250]: 7503, 55914, 177\n",
    "   * for [59848,55250,20696]: 8656, 66142, 191\n",
    "   * for [59848,55250,20696,54151]: 11058, 89485, 232\n",
    "   * for [59848,55250,20696,54151,40577]: 13130, 101032, 329\n",
    "   \n",
    "#### We should use a more resonable time_frame, like 300 ~ 5min"
   ]
  },
  {
   "cell_type": "code",
   "execution_count": null,
   "metadata": {
    "collapsed": true
   },
   "outputs": [],
   "source": [
    "G = nx.Graph()"
   ]
  },
  {
   "cell_type": "code",
   "execution_count": null,
   "metadata": {
    "collapsed": false
   },
   "outputs": [],
   "source": [
    "for i in range(top_k):\n",
    "    add_edges_to_graph(filtered_data, G, top_authorities[i], 300)\n",
    "    print(G.number_of_nodes(), G.number_of_edges(), nx.number_connected_components(G))"
   ]
  },
  {
   "cell_type": "markdown",
   "metadata": {},
   "source": [
    "### We should filter the graphs for bigger components\n",
    "\n",
    "   * only nodes in the giant component are interesting\n",
    "   * the giant component is sparse (which is good)"
   ]
  },
  {
   "cell_type": "markdown",
   "metadata": {},
   "source": [
    "for comp in nx.connected_components(G):\n",
    "    print(len(comp))"
   ]
  },
  {
   "cell_type": "code",
   "execution_count": null,
   "metadata": {
    "collapsed": false
   },
   "outputs": [],
   "source": [
    "giant = max(nx.connected_component_subgraphs(G), key=len)\n",
    "N = len(giant.nodes())"
   ]
  },
  {
   "cell_type": "code",
   "execution_count": null,
   "metadata": {
    "collapsed": false
   },
   "outputs": [],
   "source": [
    "print(len(giant.nodes()),len(giant.edges()))"
   ]
  },
  {
   "cell_type": "code",
   "execution_count": null,
   "metadata": {
    "collapsed": false
   },
   "outputs": [],
   "source": [
    "giant_sources_df = sources_with_labels_df[sources_with_labels_df[\"src\"].isin(giant.nodes())].reset_index()[[\"src\",\"label\"]]"
   ]
  },
  {
   "cell_type": "code",
   "execution_count": null,
   "metadata": {
    "collapsed": false
   },
   "outputs": [],
   "source": [
    "len(giant_sources_df), len(sources_with_labels_df)"
   ]
  },
  {
   "cell_type": "code",
   "execution_count": null,
   "metadata": {
    "collapsed": true
   },
   "outputs": [],
   "source": [
    "n2i_map = dict(zip(giant_sources_df[\"src\"],giant_sources_df.index))"
   ]
  },
  {
   "cell_type": "code",
   "execution_count": null,
   "metadata": {
    "collapsed": false,
    "scrolled": false
   },
   "outputs": [],
   "source": [
    "edges_array = np.array([[n2i_map[edge[0]],n2i_map[edge[1]]] for edge in giant.edges()])"
   ]
  },
  {
   "cell_type": "code",
   "execution_count": null,
   "metadata": {
    "collapsed": false
   },
   "outputs": [],
   "source": [
    "row = edges_array[:,0]\n",
    "col = edges_array[:,1]\n",
    "data = np.ones(len(edges_array))\n",
    "coord_sparse = sparse.csr_matrix( (data,(row,col)), shape=(N,N))\n",
    "#lil_sparse = coord_sparse.tolil()"
   ]
  },
  {
   "cell_type": "markdown",
   "metadata": {},
   "source": [
    "lil_sparse"
   ]
  },
  {
   "cell_type": "markdown",
   "metadata": {},
   "source": [
    "### Export adjacency matrix to binary file"
   ]
  },
  {
   "cell_type": "code",
   "execution_count": null,
   "metadata": {
    "collapsed": false
   },
   "outputs": [],
   "source": [
    "f = open(\"/mnt/idms/fberes/network/gcn_project/data/15o_test.adj\",\"wb\")\n",
    "f.write(coord_sparse.toarray())\n",
    "f.close()"
   ]
  },
  {
   "cell_type": "markdown",
   "metadata": {},
   "source": [
    "#### beolvasást lásd a gcn util.py-ban: vmit a pickle-el csinálunk"
   ]
  }
 ],
 "metadata": {
  "anaconda-cloud": {},
  "kernelspec": {
   "display_name": "Python [conda env:dm-3-env]",
   "language": "python",
   "name": "conda-env-dm-3-env-py"
  },
  "language_info": {
   "codemirror_mode": {
    "name": "ipython",
    "version": 3
   },
   "file_extension": ".py",
   "mimetype": "text/x-python",
   "name": "python",
   "nbconvert_exporter": "python",
   "pygments_lexer": "ipython3",
   "version": "3.5.2"
  }
 },
 "nbformat": 4,
 "nbformat_minor": 2
}
