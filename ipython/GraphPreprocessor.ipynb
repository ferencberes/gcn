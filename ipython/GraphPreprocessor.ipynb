{
 "cells": [
  {
   "cell_type": "code",
   "execution_count": null,
   "metadata": {
    "collapsed": true
   },
   "outputs": [],
   "source": [
    "import pandas as pd\n",
    "import numpy as np\n",
    "import networkx as nx\n",
    "import pickle as pkl\n",
    "from scipy import sparse\n",
    "from collections import defaultdict"
   ]
  },
  {
   "cell_type": "code",
   "execution_count": null,
   "metadata": {
    "collapsed": false
   },
   "outputs": [],
   "source": [
    "import sys, os\n",
    "sys.path.insert(0,\"../python/\")\n",
    "import generator_utils as gu"
   ]
  },
  {
   "cell_type": "code",
   "execution_count": null,
   "metadata": {
    "collapsed": true
   },
   "outputs": [],
   "source": [
    "%matplotlib inline"
   ]
  },
  {
   "cell_type": "code",
   "execution_count": null,
   "metadata": {
    "collapsed": false
   },
   "outputs": [],
   "source": [
    "from datawand.parametrization import ParamHelper\n",
    "ph = ParamHelper(\"../pipelines/GcnProject.json\",sys.argv)"
   ]
  },
  {
   "cell_type": "code",
   "execution_count": null,
   "metadata": {
    "collapsed": true
   },
   "outputs": [],
   "source": [
    "input_prefix = ph.get(\"input_prefix\")"
   ]
  },
  {
   "cell_type": "code",
   "execution_count": null,
   "metadata": {
    "collapsed": false
   },
   "outputs": [],
   "source": [
    "preprocessed_dir = \"%s/data/%s\" % (ph.get(\"experiment_dir\"), gu.get_experiment_dir(ph))"
   ]
  },
  {
   "cell_type": "code",
   "execution_count": null,
   "metadata": {
    "collapsed": false
   },
   "outputs": [],
   "source": [
    "if not os.path.exists(preprocessed_dir):\n",
    "    os.makedirs(preprocessed_dir)\n",
    "print(preprocessed_dir)"
   ]
  },
  {
   "cell_type": "markdown",
   "metadata": {},
   "source": [
    "# 1. Load Network Data"
   ]
  },
  {
   "cell_type": "code",
   "execution_count": null,
   "metadata": {
    "collapsed": true
   },
   "outputs": [],
   "source": [
    "data = pd.read_csv(\"%s/15o/15o_mentions.csv\" % input_prefix,sep=\" \",names=[\"time\",\"src\",\"trg\"])"
   ]
  },
  {
   "cell_type": "code",
   "execution_count": null,
   "metadata": {
    "collapsed": false
   },
   "outputs": [],
   "source": [
    "data.head()"
   ]
  },
  {
   "cell_type": "code",
   "execution_count": null,
   "metadata": {
    "collapsed": true
   },
   "outputs": [],
   "source": [
    "first_epoch = data[\"time\"].min()"
   ]
  },
  {
   "cell_type": "code",
   "execution_count": null,
   "metadata": {
    "collapsed": false
   },
   "outputs": [],
   "source": [
    "print(len(data))\n",
    "data = data[data[\"time\"] < first_epoch + 4 * 86400]\n",
    "print(len(data))"
   ]
  },
  {
   "cell_type": "markdown",
   "metadata": {},
   "source": [
    "# 2. Preprocess Network"
   ]
  },
  {
   "cell_type": "markdown",
   "metadata": {},
   "source": [
    "## a.) Top authorities"
   ]
  },
  {
   "cell_type": "code",
   "execution_count": null,
   "metadata": {
    "collapsed": false
   },
   "outputs": [],
   "source": [
    "top_k = ph.get(\"top_k\")\n",
    "top_auth_with_freq = data[\"trg\"].value_counts()[:top_k]\n",
    "top_auth_with_freq"
   ]
  },
  {
   "cell_type": "code",
   "execution_count": null,
   "metadata": {
    "collapsed": false
   },
   "outputs": [],
   "source": [
    "top_authorities = list(top_auth_with_freq.index)\n",
    "top_authorities"
   ]
  },
  {
   "cell_type": "markdown",
   "metadata": {},
   "source": [
    "## b.) Filter for top authorities"
   ]
  },
  {
   "cell_type": "code",
   "execution_count": null,
   "metadata": {
    "collapsed": false
   },
   "outputs": [],
   "source": [
    "filtered_data = data[data[\"trg\"].isin(top_authorities)]\n",
    "print(len(data),len(filtered_data))"
   ]
  },
  {
   "cell_type": "code",
   "execution_count": null,
   "metadata": {
    "collapsed": false
   },
   "outputs": [],
   "source": [
    "print(len(filtered_data[\"src\"].unique()),len(filtered_data[\"trg\"].unique()))"
   ]
  },
  {
   "cell_type": "code",
   "execution_count": null,
   "metadata": {
    "collapsed": false
   },
   "outputs": [],
   "source": [
    "num_targets_for_sources = filtered_data.groupby(by=[\"src\"])[\"trg\"].nunique()"
   ]
  },
  {
   "cell_type": "code",
   "execution_count": null,
   "metadata": {
    "collapsed": false
   },
   "outputs": [],
   "source": [
    "num_targets_for_sources.hist()"
   ]
  },
  {
   "cell_type": "markdown",
   "metadata": {},
   "source": [
    "## c.) Generate group labels for sources"
   ]
  },
  {
   "cell_type": "markdown",
   "metadata": {},
   "source": [
    "#### Conclusion: top_k=10\n",
    "   * too many nodes (18824)\n",
    "   * too many labels (not all 2^10 combination occurs - only 294)\n",
    "   \n",
    "#### Conclusion: top_k=5\n",
    "   * too many nodes? (14721)\n",
    "   * 31 labels could be reduced to labels with at least 10,100 node support\n",
    "\n",
    "#### Conclusion: top_k=4\n",
    "   * 12372 nodes are fine\n",
    "   * 15 labels is fine\n",
    "\n",
    "#### Conclusion: top_k=3 (I should try this setting first)\n",
    "   * 9681 nodes are fine\n",
    "   * 7 labels is fine"
   ]
  },
  {
   "cell_type": "code",
   "execution_count": null,
   "metadata": {
    "collapsed": false
   },
   "outputs": [],
   "source": [
    "sources_with_labels_df = gu.generate_labels(filtered_data, top_authorities)"
   ]
  },
  {
   "cell_type": "code",
   "execution_count": null,
   "metadata": {
    "collapsed": false
   },
   "outputs": [],
   "source": [
    "sources_with_labels_df[\"label\"].value_counts()"
   ]
  },
  {
   "cell_type": "markdown",
   "metadata": {},
   "source": [
    "### Label changes"
   ]
  },
  {
   "cell_type": "code",
   "execution_count": null,
   "metadata": {
    "collapsed": false
   },
   "outputs": [],
   "source": [
    "filtered_size = len(filtered_data)\n",
    "train_part = int(filtered_size * 0.5)\n",
    "print(filtered_size,train_part)"
   ]
  },
  {
   "cell_type": "code",
   "execution_count": null,
   "metadata": {
    "collapsed": false
   },
   "outputs": [],
   "source": [
    "labels_first_part = gu.generate_labels(filtered_data.head(train_part), top_authorities)\n",
    "labels_second_part = gu.generate_labels(filtered_data.tail(filtered_size-train_part), top_authorities)"
   ]
  },
  {
   "cell_type": "code",
   "execution_count": null,
   "metadata": {
    "collapsed": false
   },
   "outputs": [],
   "source": [
    "cols = ['src','label']\n",
    "merged_df = labels_first_part[cols].merge(labels_second_part[cols],on=[\"src\"],how=\"inner\")"
   ]
  },
  {
   "cell_type": "markdown",
   "metadata": {},
   "source": [
    "#### top_k=10\n",
    "   * merged_size=2273\n",
    "   * mismatch_size=1815\n",
    "\n",
    "#### top_k=5\n",
    "   * merged_size=1983\n",
    "   * mismatch_size=1465\n",
    "\n",
    "#### top_k=3\n",
    "   * merged_size=1800\n",
    "   * mismatch_size=1201 \n",
    "\n",
    "#### top_k=3\n",
    "   * merged_size=1703\n",
    "   * mismatch_size=1078 "
   ]
  },
  {
   "cell_type": "code",
   "execution_count": null,
   "metadata": {
    "collapsed": false
   },
   "outputs": [],
   "source": [
    "print(len(merged_df), len(merged_df[merged_df[\"label_x\"] != merged_df[\"label_y\"]]))"
   ]
  },
  {
   "cell_type": "markdown",
   "metadata": {},
   "source": [
    "## d.) Generate edges for the network"
   ]
  },
  {
   "cell_type": "code",
   "execution_count": null,
   "metadata": {
    "collapsed": false
   },
   "outputs": [],
   "source": [
    "top_authorities"
   ]
  },
  {
   "cell_type": "markdown",
   "metadata": {},
   "source": [
    "#### Graph stats for different topics (top_k=5, time_frame=60 ~ 1min)\n",
    "\n",
    "The stats are in this order: **#nodes, #edges, #connected_components**\n",
    "\n",
    "   * for [59848]: 5408, 39501, 132\n",
    "   * for [59848,55250]: 7503, 55914, 177\n",
    "   * for [59848,55250,20696]: 8656, 66142, 191\n",
    "   * for [59848,55250,20696,54151]: 11058, 89485, 232\n",
    "   * for [59848,55250,20696,54151,40577]: 13130, 101032, 329\n",
    "   \n",
    "#### We should use a more resonable time_frame, like 300 ~ 5min"
   ]
  },
  {
   "cell_type": "code",
   "execution_count": null,
   "metadata": {
    "collapsed": true
   },
   "outputs": [],
   "source": [
    "G = nx.Graph()"
   ]
  },
  {
   "cell_type": "code",
   "execution_count": null,
   "metadata": {
    "collapsed": false
   },
   "outputs": [],
   "source": [
    "time_frame = ph.get(\"time_frame\")\n",
    "for i in range(top_k):\n",
    "    gu.add_edges_to_graph(filtered_data, G, top_authorities[i], time_frame = time_frame)\n",
    "    print(G.number_of_nodes(), G.number_of_edges(), nx.number_connected_components(G))"
   ]
  },
  {
   "cell_type": "markdown",
   "metadata": {},
   "source": [
    "## e.) Filter the graph for the giant component\n",
    "\n",
    "   * only nodes in the giant component are interesting - other components has very few vertices\n",
    "   * the giant component is sparse (which is good)"
   ]
  },
  {
   "cell_type": "markdown",
   "metadata": {},
   "source": [
    "for comp in nx.connected_components(G):\n",
    "    print(len(comp))"
   ]
  },
  {
   "cell_type": "code",
   "execution_count": null,
   "metadata": {
    "collapsed": false
   },
   "outputs": [],
   "source": [
    "giant = max(nx.connected_component_subgraphs(G), key=len)\n",
    "N = len(giant.nodes())\n",
    "M = len(giant.edges())"
   ]
  },
  {
   "cell_type": "code",
   "execution_count": null,
   "metadata": {
    "collapsed": false
   },
   "outputs": [],
   "source": [
    "print(N,M)"
   ]
  },
  {
   "cell_type": "markdown",
   "metadata": {},
   "source": [
    "### Edge density"
   ]
  },
  {
   "cell_type": "code",
   "execution_count": null,
   "metadata": {
    "collapsed": false
   },
   "outputs": [],
   "source": [
    "M / ((N-1)*N/2)"
   ]
  },
  {
   "cell_type": "markdown",
   "metadata": {},
   "source": [
    "### Calculate some centrality scores on the giant component"
   ]
  },
  {
   "cell_type": "code",
   "execution_count": null,
   "metadata": {
    "collapsed": true
   },
   "outputs": [],
   "source": [
    "giant_pagerank = nx.pagerank(giant)\n",
    "giant_degree = nx.degree(giant)"
   ]
  },
  {
   "cell_type": "code",
   "execution_count": null,
   "metadata": {
    "collapsed": false
   },
   "outputs": [],
   "source": [
    "giant_scores_df = pd.DataFrame({\"pagerank\":giant_pagerank, \"degree\":giant_degree})\n",
    "giant_scores_df[\"src\"] = giant_scores_df.index\n",
    "giant_scores_df = giant_scores_df.reset_index()[[\"src\",\"degree\",\"pagerank\"]]"
   ]
  },
  {
   "cell_type": "code",
   "execution_count": null,
   "metadata": {
    "collapsed": false
   },
   "outputs": [],
   "source": [
    "giant_scores_df.head()"
   ]
  },
  {
   "cell_type": "markdown",
   "metadata": {},
   "source": [
    "# Export binary files"
   ]
  },
  {
   "cell_type": "code",
   "execution_count": null,
   "metadata": {
    "collapsed": true
   },
   "outputs": [],
   "source": [
    "giant_sources_df = sources_with_labels_df[sources_with_labels_df[\"src\"].isin(giant.nodes())].reset_index()[[\"src\",\"label\"]]"
   ]
  },
  {
   "cell_type": "code",
   "execution_count": null,
   "metadata": {
    "collapsed": false
   },
   "outputs": [],
   "source": [
    "len(giant_sources_df), len(sources_with_labels_df)"
   ]
  },
  {
   "cell_type": "markdown",
   "metadata": {},
   "source": [
    "### Get part of filtered_data related to giant component"
   ]
  },
  {
   "cell_type": "code",
   "execution_count": null,
   "metadata": {
    "collapsed": true
   },
   "outputs": [],
   "source": [
    "giant_with_time = filtered_data[filtered_data[\"src\"].isin(giant.nodes())]"
   ]
  },
  {
   "cell_type": "markdown",
   "metadata": {},
   "source": [
    "### Extract minimum mention time for each node"
   ]
  },
  {
   "cell_type": "code",
   "execution_count": null,
   "metadata": {
    "collapsed": false
   },
   "outputs": [],
   "source": [
    "giant_with_min_time = giant_with_time.groupby(by=[\"src\"])[\"time\"].min()\n",
    "giant_with_min_time = pd.DataFrame(giant_with_min_time).reset_index()"
   ]
  },
  {
   "cell_type": "code",
   "execution_count": null,
   "metadata": {
    "collapsed": false
   },
   "outputs": [],
   "source": [
    "giant_sources_df = giant_sources_df.merge(giant_with_min_time,on=[\"src\"])"
   ]
  },
  {
   "cell_type": "markdown",
   "metadata": {},
   "source": [
    "### Extract number of mentions for sources"
   ]
  },
  {
   "cell_type": "code",
   "execution_count": null,
   "metadata": {
    "collapsed": false
   },
   "outputs": [],
   "source": [
    "giant_with_num_of_mentions = giant_with_time.groupby(by=[\"src\"])[\"time\"].count().reset_index()\n",
    "giant_with_num_of_mentions.columns = [\"src\",\"frequency\"]\n",
    "giant_with_num_of_mentions[\"frequency\"] = giant_with_num_of_mentions[\"frequency\"].astype(\"f\")"
   ]
  },
  {
   "cell_type": "code",
   "execution_count": null,
   "metadata": {
    "collapsed": false
   },
   "outputs": [],
   "source": [
    "giant_sources_df = giant_sources_df.merge(giant_with_num_of_mentions,on=[\"src\"])"
   ]
  },
  {
   "cell_type": "markdown",
   "metadata": {},
   "source": [
    "### Join centrality score features"
   ]
  },
  {
   "cell_type": "code",
   "execution_count": null,
   "metadata": {
    "collapsed": false
   },
   "outputs": [],
   "source": [
    "giant_sources_df = giant_sources_df.merge(giant_scores_df,on=[\"src\"])"
   ]
  },
  {
   "cell_type": "markdown",
   "metadata": {},
   "source": [
    "### Create node index decoder"
   ]
  },
  {
   "cell_type": "code",
   "execution_count": null,
   "metadata": {
    "collapsed": true
   },
   "outputs": [],
   "source": [
    "n2i_map = dict(zip(giant_sources_df[\"src\"],giant_sources_df.index))"
   ]
  },
  {
   "cell_type": "markdown",
   "metadata": {},
   "source": [
    "## 0.) Split into train test set"
   ]
  },
  {
   "cell_type": "code",
   "execution_count": null,
   "metadata": {
    "collapsed": false
   },
   "outputs": [],
   "source": [
    "giant_sources_df.head(3)"
   ]
  },
  {
   "cell_type": "code",
   "execution_count": null,
   "metadata": {
    "collapsed": true
   },
   "outputs": [],
   "source": [
    "giant_min_time = giant_sources_df[\"time\"].min()\n",
    "giant_max_time = giant_sources_df[\"time\"].max()"
   ]
  },
  {
   "cell_type": "code",
   "execution_count": null,
   "metadata": {
    "collapsed": false
   },
   "outputs": [],
   "source": [
    "print( (giant_max_time-giant_min_time) // 86400 )"
   ]
  },
  {
   "cell_type": "code",
   "execution_count": null,
   "metadata": {
    "collapsed": false
   },
   "outputs": [],
   "source": [
    "cut_ratio = ph.get(\"cut_ratio\")\n",
    "cut_time = giant_min_time + (giant_max_time-giant_min_time) * cut_ratio"
   ]
  },
  {
   "cell_type": "code",
   "execution_count": null,
   "metadata": {
    "collapsed": true
   },
   "outputs": [],
   "source": [
    "train_giant_sources_df = giant_sources_df[giant_sources_df[\"time\"] <= cut_time]\n",
    "test_giant_sources_df = giant_sources_df[giant_sources_df[\"time\"] > cut_time]"
   ]
  },
  {
   "cell_type": "code",
   "execution_count": null,
   "metadata": {
    "collapsed": false
   },
   "outputs": [],
   "source": [
    "print(len(train_giant_sources_df),len(test_giant_sources_df))"
   ]
  },
  {
   "cell_type": "code",
   "execution_count": null,
   "metadata": {
    "collapsed": false
   },
   "outputs": [],
   "source": [
    "np.savetxt(\"%s/ind.15o.test.index\" % preprocessed_dir,test_giant_sources_df.index,fmt=\"%i\")"
   ]
  },
  {
   "cell_type": "code",
   "execution_count": null,
   "metadata": {
    "collapsed": false
   },
   "outputs": [],
   "source": [
    "export_tuples = [\n",
    "    #(giant_sources_df,'all'),\n",
    "    (train_giant_sources_df,'all'),\n",
    "    (test_giant_sources_df,''),\n",
    "    (test_giant_sources_df,'t')\n",
    "]"
   ]
  },
  {
   "cell_type": "markdown",
   "metadata": {},
   "source": [
    "## 1.) Export edges to binary file"
   ]
  },
  {
   "cell_type": "code",
   "execution_count": null,
   "metadata": {
    "collapsed": true
   },
   "outputs": [],
   "source": [
    "edge_list_map = defaultdict(list)"
   ]
  },
  {
   "cell_type": "code",
   "execution_count": null,
   "metadata": {
    "collapsed": true
   },
   "outputs": [],
   "source": [
    "for s,t in giant.edges():\n",
    "    edge_list_map[n2i_map[s]].append(n2i_map[t])"
   ]
  },
  {
   "cell_type": "code",
   "execution_count": null,
   "metadata": {
    "collapsed": false
   },
   "outputs": [],
   "source": [
    "with open(\"%s/ind.15o.graph\" % preprocessed_dir,\"wb+\") as outfile:\n",
    "    pkl.dump(edge_list_map, outfile)"
   ]
  },
  {
   "cell_type": "markdown",
   "metadata": {},
   "source": [
    "## 2.) Export target labels"
   ]
  },
  {
   "cell_type": "code",
   "execution_count": null,
   "metadata": {
    "collapsed": false
   },
   "outputs": [],
   "source": [
    "unique_labels = list(giant_sources_df[\"label\"].unique())\n",
    "index_pos_map = dict(zip(unique_labels,range(len(unique_labels))))\n",
    "#index_pos_map"
   ]
  },
  {
   "cell_type": "code",
   "execution_count": null,
   "metadata": {
    "collapsed": false
   },
   "outputs": [],
   "source": [
    "def str2arr(label):\n",
    "    return [int(char) for char in str(label)]\n",
    "\n",
    "def str2onehot(label):\n",
    "    out = np.zeros(len(unique_labels),dtype=\"i\")\n",
    "    out[index_pos_map[label]] = 1\n",
    "    return out"
   ]
  },
  {
   "cell_type": "code",
   "execution_count": null,
   "metadata": {
    "collapsed": false
   },
   "outputs": [],
   "source": [
    "for item in export_tuples:\n",
    "    label_arr = []\n",
    "    for index, row in item[0].iterrows():\n",
    "        label_arr.append(str2arr(row[\"label\"]))\n",
    "        #label_arr.append(str2onehot(row[\"label\"]))\n",
    "    label_arr = np.array(label_arr)\n",
    "    with open(\"%s/ind.15o.%sy\" % (preprocessed_dir,item[1]),\"wb+\") as outfile:\n",
    "        pkl.dump(label_arr, outfile)"
   ]
  },
  {
   "cell_type": "markdown",
   "metadata": {},
   "source": [
    "## 3.) Export features"
   ]
  },
  {
   "cell_type": "markdown",
   "metadata": {},
   "source": [
    "#feature_set = [\"time\",\"frequency\",\"degree\",\"pagerank\"] #low performance\n",
    "#feature_set = [\"frequency\",\"degree\",\"pagerank\"] #low performance\n",
    "feature_set = [\"frequency\",\"pagerank\"] #low performance\n",
    "#feature_set = [\"frequency\",\"degree\"] #low performance\n",
    "#feature_set = [\"frequency\",\"time\"] #low performance\n",
    "\n",
    "for item in export_tuples:\n",
    "    coord_sparse = sparse.csr_matrix(item[0][feature_set].as_matrix())\n",
    "    with open(\"/mnt/idms/fberes/network/gcn_project/data/ind.15o.%sx\" % item[1],\"wb+\") as outfile:\n",
    "        pkl.dump(coord_sparse, outfile)"
   ]
  },
  {
   "cell_type": "code",
   "execution_count": null,
   "metadata": {
    "collapsed": true
   },
   "outputs": [],
   "source": [
    "for item in export_tuples:\n",
    "    num_nodes = len(item[0])\n",
    "    row = range(num_nodes)\n",
    "    col = np.zeros(num_nodes)\n",
    "    data = item[0][\"frequency\"].as_matrix()\n",
    "    coord_sparse = sparse.csr_matrix( (data,(row,col)), shape=(num_nodes,1))\n",
    "    with open(\"%s/ind.15o.%sx\" % (preprocessed_dir,item[1]),\"wb+\") as outfile:\n",
    "        pkl.dump(coord_sparse, outfile)"
   ]
  }
 ],
 "metadata": {
  "anaconda-cloud": {},
  "kernelspec": {
   "display_name": "Python [conda env:dm-3-env]",
   "language": "python",
   "name": "conda-env-dm-3-env-py"
  },
  "language_info": {
   "codemirror_mode": {
    "name": "ipython",
    "version": 3
   },
   "file_extension": ".py",
   "mimetype": "text/x-python",
   "name": "python",
   "nbconvert_exporter": "python",
   "pygments_lexer": "ipython3",
   "version": "3.5.2"
  }
 },
 "nbformat": 4,
 "nbformat_minor": 2
}