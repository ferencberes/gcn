{
 "cells": [
  {
   "cell_type": "code",
   "execution_count": null,
   "metadata": {
    "collapsed": false
   },
   "outputs": [],
   "source": [
    "from IPython.core.display import display, HTML\n",
    "display(HTML(\"<style>.container { width:100% !important; }</style>\"))"
   ]
  },
  {
   "cell_type": "code",
   "execution_count": null,
   "metadata": {
    "collapsed": true
   },
   "outputs": [],
   "source": [
    "import pandas as pd\n",
    "import seaborn as sns"
   ]
  },
  {
   "cell_type": "code",
   "execution_count": null,
   "metadata": {
    "collapsed": true
   },
   "outputs": [],
   "source": [
    "import sys, os"
   ]
  },
  {
   "cell_type": "code",
   "execution_count": null,
   "metadata": {
    "collapsed": false
   },
   "outputs": [],
   "source": [
    "from datawand.parametrization import ParamHelper\n",
    "ph = ParamHelper(\"../pipelines/GcnProject.json\",sys.argv)"
   ]
  },
  {
   "cell_type": "markdown",
   "metadata": {},
   "source": [
    "# 1. Collect accuracy results"
   ]
  },
  {
   "cell_type": "code",
   "execution_count": null,
   "metadata": {
    "collapsed": false
   },
   "outputs": [],
   "source": [
    "input_prefix = ph.get(\"experiment_dir\")\n",
    "dataset_id = ph.get(\"dataset_id\")\n",
    "label_type = ph.get(\"label_type\")\n",
    "cut_type = ph.get(\"split_type\")"
   ]
  },
  {
   "cell_type": "code",
   "execution_count": null,
   "metadata": {
    "collapsed": false
   },
   "outputs": [],
   "source": [
    "top_k_vals ,time_frame_vals, train_ratio_vals = ph.get(\"top_k_vals\"), ph.get(\"time_frame_vals\"), ph.get(\"train_ratio_vals\")"
   ]
  },
  {
   "cell_type": "code",
   "execution_count": null,
   "metadata": {
    "collapsed": false
   },
   "outputs": [],
   "source": [
    "accuracy_df = pd.DataFrame(columns=[\"predictor\",\"top_k\",\"time_frame\",\"train_ratio\",\"train_acc\",\"test_acc\",\"val_acc\"])\n",
    "for k in top_k_vals:\n",
    "    for delta in time_frame_vals:\n",
    "        for cut in train_ratio_vals:\n",
    "            acc_file_path = \"%s/data/%s/k%i_t%i_r%.2f/%s_%.2f/%s/acc.csv\" % (input_prefix,dataset_id,k,delta,cut,cut_type,cut,label_type)\n",
    "            tmp_df = pd.read_csv(acc_file_path,sep=\";\",names=[\"predictor\",\"train_acc\",\"test_acc\",\"val_acc\"])\n",
    "            tmp_df[\"top_k\"] = k\n",
    "            tmp_df[\"time_frame\"] = delta\n",
    "            tmp_df[\"train_ratio\"] = cut\n",
    "            accuracy_df = pd.concat([accuracy_df,tmp_df])\n",
    "accuracy_df = accuracy_df.reset_index()\n",
    "del accuracy_df[\"index\"]"
   ]
  },
  {
   "cell_type": "code",
   "execution_count": null,
   "metadata": {
    "collapsed": false
   },
   "outputs": [],
   "source": [
    "accuracy_df.head(10)"
   ]
  },
  {
   "cell_type": "markdown",
   "metadata": {},
   "source": [
    "# 2. Visualization"
   ]
  },
  {
   "cell_type": "code",
   "execution_count": null,
   "metadata": {
    "collapsed": true
   },
   "outputs": [],
   "source": [
    "import matplotlib.pyplot as plt"
   ]
  },
  {
   "cell_type": "code",
   "execution_count": null,
   "metadata": {
    "collapsed": true
   },
   "outputs": [],
   "source": [
    "%matplotlib inline"
   ]
  },
  {
   "cell_type": "markdown",
   "metadata": {},
   "source": [
    "## I. The effect of top_k and time_frame for accuracy"
   ]
  },
  {
   "cell_type": "code",
   "execution_count": null,
   "metadata": {
    "collapsed": false
   },
   "outputs": [],
   "source": [
    "def factorplot_by_sets(df,x_col,hue_col=\"top_k\"):\n",
    "    f, (ax1, ax2, ax3) = plt.subplots(1, 3, figsize=(20, 5), sharex=True)\n",
    "    f1=sns.factorplot(x=x_col, y=\"test_acc\", hue=hue_col, data=df, size=4, kind=\"bar\", palette=\"muted\", ax=ax1)\n",
    "    f2=sns.factorplot(x=x_col, y=\"train_acc\", hue=hue_col, data=df, size=4, kind=\"bar\", palette=\"muted\", ax=ax2)\n",
    "    f3=sns.factorplot(x=x_col, y=\"val_acc\", hue=hue_col, data=df, size=4, kind=\"bar\", palette=\"muted\", ax=ax3)\n",
    "    ax1.set_title(\"Train\")\n",
    "    ax2.set_title(\"Test\")\n",
    "    ax3.set_title(\"Validation\")\n",
    "    ax1.set_ylim(0,0.9)\n",
    "    ax2.set_ylim(0,0.9)\n",
    "    ax3.set_ylim(0,0.9)\n",
    "    plt.close(f1.fig)\n",
    "    plt.close(f2.fig)\n",
    "    plt.close(f3.fig)"
   ]
  },
  {
   "cell_type": "markdown",
   "metadata": {},
   "source": [
    "### a.) Accuracy of GCN"
   ]
  },
  {
   "cell_type": "code",
   "execution_count": null,
   "metadata": {
    "collapsed": false
   },
   "outputs": [],
   "source": [
    "factorplot_by_sets(accuracy_df[accuracy_df[\"predictor\"]==\"gcn\"],x_col=\"time_frame\")"
   ]
  },
  {
   "cell_type": "markdown",
   "metadata": {},
   "source": [
    "### b.) Accuracy of random predictor"
   ]
  },
  {
   "cell_type": "code",
   "execution_count": null,
   "metadata": {
    "collapsed": false
   },
   "outputs": [],
   "source": [
    "factorplot_by_sets(accuracy_df[accuracy_df[\"predictor\"]==\"rnd\"],x_col=\"time_frame\")"
   ]
  },
  {
   "cell_type": "markdown",
   "metadata": {},
   "source": [
    "### c.) Accuracy of partial weighted random predictor"
   ]
  },
  {
   "cell_type": "code",
   "execution_count": null,
   "metadata": {
    "collapsed": false
   },
   "outputs": [],
   "source": [
    "factorplot_by_sets(accuracy_df[accuracy_df[\"predictor\"]==\"part_w_rnd\"],x_col=\"time_frame\")"
   ]
  },
  {
   "cell_type": "markdown",
   "metadata": {},
   "source": [
    "## II. Performance of random predictors vs. GCN\n",
    "\n",
    "Here I only show performance for Test set with time_frame=60 seconds"
   ]
  },
  {
   "cell_type": "code",
   "execution_count": null,
   "metadata": {
    "collapsed": false
   },
   "outputs": [],
   "source": [
    "factorplot_by_sets(accuracy_df[accuracy_df[\"time_frame\"]==60],x_col=\"predictor\")"
   ]
  }
 ],
 "metadata": {
  "anaconda-cloud": {},
  "kernelspec": {
   "display_name": "Python [conda env:dm-3-env]",
   "language": "python",
   "name": "conda-env-dm-3-env-py"
  },
  "language_info": {
   "codemirror_mode": {
    "name": "ipython",
    "version": 3
   },
   "file_extension": ".py",
   "mimetype": "text/x-python",
   "name": "python",
   "nbconvert_exporter": "python",
   "pygments_lexer": "ipython3",
   "version": "3.5.2"
  }
 },
 "nbformat": 4,
 "nbformat_minor": 1
}