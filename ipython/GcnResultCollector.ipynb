{
 "cells": [
  {
   "cell_type": "code",
   "execution_count": null,
   "metadata": {
    "collapsed": true
   },
   "outputs": [],
   "source": [
    "import pandas as pd\n",
    "import seaborn as sns"
   ]
  },
  {
   "cell_type": "code",
   "execution_count": null,
   "metadata": {
    "collapsed": true
   },
   "outputs": [],
   "source": [
    "import sys, os"
   ]
  },
  {
   "cell_type": "code",
   "execution_count": null,
   "metadata": {
    "collapsed": false
   },
   "outputs": [],
   "source": [
    "from datawand.parametrization import ParamHelper\n",
    "ph = ParamHelper(\"../pipelines/GcnProject.json\",sys.argv)"
   ]
  },
  {
   "cell_type": "markdown",
   "metadata": {},
   "source": [
    "# 1. Collect accuracy results"
   ]
  },
  {
   "cell_type": "code",
   "execution_count": null,
   "metadata": {
    "collapsed": false
   },
   "outputs": [],
   "source": [
    "input_prefix = ph.get(\"experiment_dir\")"
   ]
  },
  {
   "cell_type": "code",
   "execution_count": null,
   "metadata": {
    "collapsed": false
   },
   "outputs": [],
   "source": [
    "top_k_vals ,time_frame_vals, cut_ratio_vals = ph.get(\"top_k_vals\"), ph.get(\"time_frame_vals\"), ph.get(\"cut_ratio_vals\")"
   ]
  },
  {
   "cell_type": "code",
   "execution_count": null,
   "metadata": {
    "collapsed": false
   },
   "outputs": [],
   "source": [
    "accuracies = []\n",
    "for k in top_k_vals:\n",
    "    for delta in time_frame_vals:\n",
    "        for cut in cut_ratio_vals:\n",
    "            with open(\"%s/data/k%i_t%i_r%.2f/acc.csv\" % (input_prefix,k,delta,cut)) as f:\n",
    "                accuracies.append([k, delta, cut] + f.read().split(\";\"))"
   ]
  },
  {
   "cell_type": "code",
   "execution_count": null,
   "metadata": {
    "collapsed": false
   },
   "outputs": [],
   "source": [
    "accuracy_df = pd.DataFrame(accuracies,columns=[\"top_k\",\"time_frame\",\"train_ratio\",\"train_acc\",\"test_acc\",\"val_acc\"])\n",
    "for feat in [\"train_acc\",\"test_acc\",\"val_acc\"]:\n",
    "    accuracy_df[feat] = accuracy_df[feat].astype(\"f\")"
   ]
  },
  {
   "cell_type": "code",
   "execution_count": null,
   "metadata": {
    "collapsed": false
   },
   "outputs": [],
   "source": [
    "accuracy_df"
   ]
  },
  {
   "cell_type": "markdown",
   "metadata": {},
   "source": [
    "# 2. Visualization"
   ]
  },
  {
   "cell_type": "code",
   "execution_count": null,
   "metadata": {
    "collapsed": true
   },
   "outputs": [],
   "source": [
    "import matplotlib.pyplot as plt"
   ]
  },
  {
   "cell_type": "code",
   "execution_count": null,
   "metadata": {
    "collapsed": true
   },
   "outputs": [],
   "source": [
    "%matplotlib inline"
   ]
  },
  {
   "cell_type": "code",
   "execution_count": null,
   "metadata": {
    "collapsed": false
   },
   "outputs": [],
   "source": [
    "cut_1 = accuracy_df[accuracy_df[\"train_ratio\"]==0.5]\n",
    "cut_2 = accuracy_df[accuracy_df[\"train_ratio\"]==0.7]"
   ]
  },
  {
   "cell_type": "code",
   "execution_count": null,
   "metadata": {
    "collapsed": false
   },
   "outputs": [],
   "source": [
    "f, (ax1, ax2, ax3) = plt.subplots(1, 3, figsize=(20, 5), sharex=True)\n",
    "\n",
    "f1=sns.factorplot(x=\"time_frame\", y=\"test_acc\", hue=\"top_k\", data=cut_1, size=4, kind=\"bar\", palette=\"muted\", ax=ax1)\n",
    "f2=sns.factorplot(x=\"time_frame\", y=\"train_acc\", hue=\"top_k\", data=cut_1, size=4, kind=\"bar\", palette=\"muted\", ax=ax2)\n",
    "f3=sns.factorplot(x=\"time_frame\", y=\"val_acc\", hue=\"top_k\", data=cut_1, size=4, kind=\"bar\", palette=\"muted\", ax=ax3)\n",
    "\n",
    "plt.close(f1.fig)\n",
    "plt.close(f2.fig)\n",
    "plt.close(f3.fig)"
   ]
  },
  {
   "cell_type": "code",
   "execution_count": null,
   "metadata": {
    "collapsed": true
   },
   "outputs": [],
   "source": [
    "tf_60 = accuracy_df[accuracy_df[\"time_frame\"]==60]"
   ]
  },
  {
   "cell_type": "code",
   "execution_count": null,
   "metadata": {
    "collapsed": false
   },
   "outputs": [],
   "source": [
    "tf_60"
   ]
  }
 ],
 "metadata": {
  "anaconda-cloud": {},
  "kernelspec": {
   "display_name": "Python [conda env:dm-3-env]",
   "language": "python",
   "name": "conda-env-dm-3-env-py"
  },
  "language_info": {
   "codemirror_mode": {
    "name": "ipython",
    "version": 3
   },
   "file_extension": ".py",
   "mimetype": "text/x-python",
   "name": "python",
   "nbconvert_exporter": "python",
   "pygments_lexer": "ipython3",
   "version": "3.5.2"
  }
 },
 "nbformat": 4,
 "nbformat_minor": 1
}